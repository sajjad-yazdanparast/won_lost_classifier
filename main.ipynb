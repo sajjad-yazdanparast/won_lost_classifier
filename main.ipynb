{
 "cells": [
  {
   "cell_type": "code",
   "execution_count": 37,
   "id": "b56e08ac",
   "metadata": {},
   "outputs": [],
   "source": [
    "import pandas as pd \n",
    "from sklearn.preprocessing import LabelEncoder\n",
    "from sklearn.model_selection import train_test_split\n",
    "\n",
    "from sklearn.ensemble import RandomForestClassifier\n",
    "from sklearn.tree import DecisionTreeClassifier\n",
    "from sklearn.naive_bayes import MultinomialNB\n",
    "from sklearn.neighbors import KNeighborsClassifier\n",
    "\n",
    "from sklearn.metrics import classification_report, accuracy_score, f1_score , cohen_kappa_score, confusion_matrix\n",
    "import matplotlib.pyplot as plt \n",
    "import seaborn as sns "
   ]
  },
  {
   "cell_type": "code",
   "execution_count": 2,
   "id": "96f871a5",
   "metadata": {},
   "outputs": [],
   "source": [
    "df = pd.read_excel('./dataset.xls')"
   ]
  },
  {
   "cell_type": "code",
   "execution_count": 3,
   "id": "ec2ef4c0",
   "metadata": {},
   "outputs": [
    {
     "data": {
      "text/html": [
       "<div>\n",
       "<style scoped>\n",
       "    .dataframe tbody tr th:only-of-type {\n",
       "        vertical-align: middle;\n",
       "    }\n",
       "\n",
       "    .dataframe tbody tr th {\n",
       "        vertical-align: top;\n",
       "    }\n",
       "\n",
       "    .dataframe thead th {\n",
       "        text-align: right;\n",
       "    }\n",
       "</style>\n",
       "<table border=\"1\" class=\"dataframe\">\n",
       "  <thead>\n",
       "    <tr style=\"text-align: right;\">\n",
       "      <th></th>\n",
       "      <th>Unnamed: 0</th>\n",
       "      <th>Customer</th>\n",
       "      <th>Agent</th>\n",
       "      <th>SalesAgentEmailID</th>\n",
       "      <th>ContactEmailID</th>\n",
       "      <th>Stage</th>\n",
       "      <th>Product</th>\n",
       "      <th>Close_Value</th>\n",
       "      <th>Created Date</th>\n",
       "      <th>Close Date</th>\n",
       "    </tr>\n",
       "  </thead>\n",
       "  <tbody>\n",
       "    <tr>\n",
       "      <th>0</th>\n",
       "      <td>0</td>\n",
       "      <td>Konex</td>\n",
       "      <td>Corliss Cosme</td>\n",
       "      <td>corliss@piedpiper.com</td>\n",
       "      <td>delila@konex.com</td>\n",
       "      <td>Won</td>\n",
       "      <td>GTX Plus Basic</td>\n",
       "      <td>1255.0</td>\n",
       "      <td>2016-01-04</td>\n",
       "      <td>2016-05-24</td>\n",
       "    </tr>\n",
       "    <tr>\n",
       "      <th>1</th>\n",
       "      <td>1</td>\n",
       "      <td>Finjob</td>\n",
       "      <td>Rosalina Dieter</td>\n",
       "      <td>rosalina@piedpiper.com</td>\n",
       "      <td>belinda@finjob.com</td>\n",
       "      <td>Won</td>\n",
       "      <td>MG Special</td>\n",
       "      <td>45.0</td>\n",
       "      <td>2016-01-04</td>\n",
       "      <td>2016-11-02</td>\n",
       "    </tr>\n",
       "    <tr>\n",
       "      <th>2</th>\n",
       "      <td>2</td>\n",
       "      <td>Kinnamplus</td>\n",
       "      <td>Donn Cantrell</td>\n",
       "      <td>donn@piedpiper.com</td>\n",
       "      <td>monte@kinnamplus.com</td>\n",
       "      <td>Lost</td>\n",
       "      <td>MG Special</td>\n",
       "      <td>NaN</td>\n",
       "      <td>2016-01-06</td>\n",
       "      <td>2016-12-07</td>\n",
       "    </tr>\n",
       "    <tr>\n",
       "      <th>3</th>\n",
       "      <td>3</td>\n",
       "      <td>Genco Pura Olive Oil Company</td>\n",
       "      <td>James Ascencio</td>\n",
       "      <td>james@piedpiper.com</td>\n",
       "      <td>karole@gencopuraoliveoilcompany.com</td>\n",
       "      <td>In Progress</td>\n",
       "      <td>MG Advanced</td>\n",
       "      <td>1054.0</td>\n",
       "      <td>2016-01-06</td>\n",
       "      <td>2016-09-11</td>\n",
       "    </tr>\n",
       "    <tr>\n",
       "      <th>4</th>\n",
       "      <td>4</td>\n",
       "      <td>Stanredtax</td>\n",
       "      <td>Lajuana Vencill</td>\n",
       "      <td>lajuana@piedpiper.com</td>\n",
       "      <td>candice@stanredtax.com</td>\n",
       "      <td>Won</td>\n",
       "      <td>MG Advanced</td>\n",
       "      <td>3180.0</td>\n",
       "      <td>2016-01-07</td>\n",
       "      <td>2016-01-31</td>\n",
       "    </tr>\n",
       "    <tr>\n",
       "      <th>...</th>\n",
       "      <td>...</td>\n",
       "      <td>...</td>\n",
       "      <td>...</td>\n",
       "      <td>...</td>\n",
       "      <td>...</td>\n",
       "      <td>...</td>\n",
       "      <td>...</td>\n",
       "      <td>...</td>\n",
       "      <td>...</td>\n",
       "      <td>...</td>\n",
       "    </tr>\n",
       "    <tr>\n",
       "      <th>7795</th>\n",
       "      <td>7795</td>\n",
       "      <td>Vehement Capital Partners</td>\n",
       "      <td>Jonathan Berthelot</td>\n",
       "      <td>jonathan@piedpiper.com</td>\n",
       "      <td>lavonia@vehementcapitalpartners.com</td>\n",
       "      <td>In Progress</td>\n",
       "      <td>GTX Basic</td>\n",
       "      <td>590.0</td>\n",
       "      <td>2018-12-30</td>\n",
       "      <td>2019-07-22</td>\n",
       "    </tr>\n",
       "    <tr>\n",
       "      <th>7796</th>\n",
       "      <td>7796</td>\n",
       "      <td>Hottechi</td>\n",
       "      <td>Marty Freudenburg</td>\n",
       "      <td>marty@piedpiper.com</td>\n",
       "      <td>juliette@hottechi.com</td>\n",
       "      <td>In Progress</td>\n",
       "      <td>MG Advanced</td>\n",
       "      <td>3284.0</td>\n",
       "      <td>2018-12-30</td>\n",
       "      <td>2019-05-26</td>\n",
       "    </tr>\n",
       "    <tr>\n",
       "      <th>7797</th>\n",
       "      <td>7797</td>\n",
       "      <td>Umbrella Corporation</td>\n",
       "      <td>Anna Snelling</td>\n",
       "      <td>anna@piedpiper.com</td>\n",
       "      <td>orpha@umbrellacorporation.com</td>\n",
       "      <td>In Progress</td>\n",
       "      <td>GTX Plus Pro</td>\n",
       "      <td>300.0</td>\n",
       "      <td>2018-12-31</td>\n",
       "      <td>2019-04-15</td>\n",
       "    </tr>\n",
       "    <tr>\n",
       "      <th>7798</th>\n",
       "      <td>7798</td>\n",
       "      <td>Rundofase</td>\n",
       "      <td>Gladys Colclough</td>\n",
       "      <td>gladys@piedpiper.com</td>\n",
       "      <td>crista@rundofase.com</td>\n",
       "      <td>In Progress</td>\n",
       "      <td>MG Special</td>\n",
       "      <td>3284.0</td>\n",
       "      <td>2018-12-31</td>\n",
       "      <td>2019-05-16</td>\n",
       "    </tr>\n",
       "    <tr>\n",
       "      <th>7799</th>\n",
       "      <td>7799</td>\n",
       "      <td>Y-corporation</td>\n",
       "      <td>Jonathan Berthelot</td>\n",
       "      <td>jonathan@piedpiper.com</td>\n",
       "      <td>rosanne@y-corporation.com</td>\n",
       "      <td>In Progress</td>\n",
       "      <td>MG Special</td>\n",
       "      <td>1014.0</td>\n",
       "      <td>2018-12-31</td>\n",
       "      <td>2019-08-01</td>\n",
       "    </tr>\n",
       "  </tbody>\n",
       "</table>\n",
       "<p>7800 rows × 10 columns</p>\n",
       "</div>"
      ],
      "text/plain": [
       "      Unnamed: 0                      Customer               Agent  \\\n",
       "0              0                         Konex       Corliss Cosme   \n",
       "1              1                        Finjob     Rosalina Dieter   \n",
       "2              2                    Kinnamplus       Donn Cantrell   \n",
       "3              3  Genco Pura Olive Oil Company      James Ascencio   \n",
       "4              4                    Stanredtax     Lajuana Vencill   \n",
       "...          ...                           ...                 ...   \n",
       "7795        7795     Vehement Capital Partners  Jonathan Berthelot   \n",
       "7796        7796                      Hottechi   Marty Freudenburg   \n",
       "7797        7797          Umbrella Corporation       Anna Snelling   \n",
       "7798        7798                     Rundofase    Gladys Colclough   \n",
       "7799        7799                 Y-corporation  Jonathan Berthelot   \n",
       "\n",
       "           SalesAgentEmailID                       ContactEmailID  \\\n",
       "0      corliss@piedpiper.com                     delila@konex.com   \n",
       "1     rosalina@piedpiper.com                   belinda@finjob.com   \n",
       "2         donn@piedpiper.com                 monte@kinnamplus.com   \n",
       "3        james@piedpiper.com  karole@gencopuraoliveoilcompany.com   \n",
       "4      lajuana@piedpiper.com               candice@stanredtax.com   \n",
       "...                      ...                                  ...   \n",
       "7795  jonathan@piedpiper.com  lavonia@vehementcapitalpartners.com   \n",
       "7796     marty@piedpiper.com                juliette@hottechi.com   \n",
       "7797      anna@piedpiper.com        orpha@umbrellacorporation.com   \n",
       "7798    gladys@piedpiper.com                 crista@rundofase.com   \n",
       "7799  jonathan@piedpiper.com            rosanne@y-corporation.com   \n",
       "\n",
       "            Stage         Product  Close_Value Created Date Close Date  \n",
       "0             Won  GTX Plus Basic       1255.0   2016-01-04 2016-05-24  \n",
       "1             Won      MG Special         45.0   2016-01-04 2016-11-02  \n",
       "2            Lost      MG Special          NaN   2016-01-06 2016-12-07  \n",
       "3     In Progress     MG Advanced       1054.0   2016-01-06 2016-09-11  \n",
       "4             Won     MG Advanced       3180.0   2016-01-07 2016-01-31  \n",
       "...           ...             ...          ...          ...        ...  \n",
       "7795  In Progress       GTX Basic        590.0   2018-12-30 2019-07-22  \n",
       "7796  In Progress     MG Advanced       3284.0   2018-12-30 2019-05-26  \n",
       "7797  In Progress    GTX Plus Pro        300.0   2018-12-31 2019-04-15  \n",
       "7798  In Progress      MG Special       3284.0   2018-12-31 2019-05-16  \n",
       "7799  In Progress      MG Special       1014.0   2018-12-31 2019-08-01  \n",
       "\n",
       "[7800 rows x 10 columns]"
      ]
     },
     "execution_count": 3,
     "metadata": {},
     "output_type": "execute_result"
    }
   ],
   "source": [
    "df"
   ]
  },
  {
   "cell_type": "code",
   "execution_count": 4,
   "id": "5ce850d3",
   "metadata": {},
   "outputs": [],
   "source": [
    "df.drop('Unnamed: 0', axis=1, inplace=True)"
   ]
  },
  {
   "cell_type": "code",
   "execution_count": 5,
   "id": "e274ab23",
   "metadata": {},
   "outputs": [],
   "source": [
    "df.columns = ['customer', 'agent', 'sales_agent_emailID', 'contact_emailID', 'stage', \\\n",
    "       'product', 'close_value', 'created_date', 'close_date']"
   ]
  },
  {
   "cell_type": "code",
   "execution_count": 6,
   "id": "263a5fce",
   "metadata": {},
   "outputs": [],
   "source": [
    "won_mean = df[df.stage=='Won'].close_value.mean()\n",
    "lost_mean = df[df.stage=='Lost'].close_value.mean()\n",
    "overall_mean = df.close_value.mean()\n",
    "\n",
    "\n",
    "df.loc[(df.close_value.isna()) & (df.stage=='Won') ,'close_value'] = won_mean\n",
    "df.loc[(df.close_value.isna()) & (df.stage=='Lost') ,'close_value'] = lost_mean\n",
    "df.loc[(df.close_value.isna()) & (df.stage=='In Progress') ,'close_value'] = overall_mean"
   ]
  },
  {
   "cell_type": "code",
   "execution_count": 7,
   "id": "75f3c718",
   "metadata": {},
   "outputs": [],
   "source": [
    "df.drop(['customer', 'agent','sales_agent_emailID', 'contact_emailID' ], axis=1, inplace=True)\n"
   ]
  },
  {
   "cell_type": "code",
   "execution_count": 8,
   "id": "27a05e27",
   "metadata": {},
   "outputs": [],
   "source": [
    "df = df[df.stage!='In Progress']"
   ]
  },
  {
   "cell_type": "code",
   "execution_count": 9,
   "id": "6b8056e8",
   "metadata": {},
   "outputs": [],
   "source": [
    "df = df.join(pd.get_dummies(df['product'])).drop('product', axis=1)"
   ]
  },
  {
   "cell_type": "code",
   "execution_count": 10,
   "id": "2a083dbd",
   "metadata": {},
   "outputs": [],
   "source": [
    "df['diff_months'] = (df.close_date - df.created_date).dt.components.days/30.0"
   ]
  },
  {
   "cell_type": "code",
   "execution_count": 11,
   "id": "f797365b",
   "metadata": {},
   "outputs": [],
   "source": [
    "df.drop(['created_date', 'close_date'], axis=1, inplace=True)"
   ]
  },
  {
   "cell_type": "code",
   "execution_count": 12,
   "id": "4440fa34",
   "metadata": {},
   "outputs": [
    {
     "data": {
      "text/html": [
       "<div>\n",
       "<style scoped>\n",
       "    .dataframe tbody tr th:only-of-type {\n",
       "        vertical-align: middle;\n",
       "    }\n",
       "\n",
       "    .dataframe tbody tr th {\n",
       "        vertical-align: top;\n",
       "    }\n",
       "\n",
       "    .dataframe thead th {\n",
       "        text-align: right;\n",
       "    }\n",
       "</style>\n",
       "<table border=\"1\" class=\"dataframe\">\n",
       "  <thead>\n",
       "    <tr style=\"text-align: right;\">\n",
       "      <th></th>\n",
       "      <th>stage</th>\n",
       "      <th>close_value</th>\n",
       "      <th>GTK 500</th>\n",
       "      <th>GTX Basic</th>\n",
       "      <th>GTX Plus Basic</th>\n",
       "      <th>GTX Plus Pro</th>\n",
       "      <th>GTXPro</th>\n",
       "      <th>MG Advanced</th>\n",
       "      <th>MG Special</th>\n",
       "      <th>diff_months</th>\n",
       "    </tr>\n",
       "  </thead>\n",
       "  <tbody>\n",
       "    <tr>\n",
       "      <th>0</th>\n",
       "      <td>Won</td>\n",
       "      <td>1255.000000</td>\n",
       "      <td>0</td>\n",
       "      <td>0</td>\n",
       "      <td>1</td>\n",
       "      <td>0</td>\n",
       "      <td>0</td>\n",
       "      <td>0</td>\n",
       "      <td>0</td>\n",
       "      <td>4.700000</td>\n",
       "    </tr>\n",
       "    <tr>\n",
       "      <th>1</th>\n",
       "      <td>Won</td>\n",
       "      <td>45.000000</td>\n",
       "      <td>0</td>\n",
       "      <td>0</td>\n",
       "      <td>0</td>\n",
       "      <td>0</td>\n",
       "      <td>0</td>\n",
       "      <td>0</td>\n",
       "      <td>1</td>\n",
       "      <td>10.100000</td>\n",
       "    </tr>\n",
       "    <tr>\n",
       "      <th>2</th>\n",
       "      <td>Lost</td>\n",
       "      <td>1335.458057</td>\n",
       "      <td>0</td>\n",
       "      <td>0</td>\n",
       "      <td>0</td>\n",
       "      <td>0</td>\n",
       "      <td>0</td>\n",
       "      <td>0</td>\n",
       "      <td>1</td>\n",
       "      <td>11.200000</td>\n",
       "    </tr>\n",
       "    <tr>\n",
       "      <th>4</th>\n",
       "      <td>Won</td>\n",
       "      <td>3180.000000</td>\n",
       "      <td>0</td>\n",
       "      <td>0</td>\n",
       "      <td>0</td>\n",
       "      <td>0</td>\n",
       "      <td>0</td>\n",
       "      <td>1</td>\n",
       "      <td>0</td>\n",
       "      <td>0.800000</td>\n",
       "    </tr>\n",
       "    <tr>\n",
       "      <th>5</th>\n",
       "      <td>Won</td>\n",
       "      <td>517.000000</td>\n",
       "      <td>0</td>\n",
       "      <td>1</td>\n",
       "      <td>0</td>\n",
       "      <td>0</td>\n",
       "      <td>0</td>\n",
       "      <td>0</td>\n",
       "      <td>0</td>\n",
       "      <td>11.166667</td>\n",
       "    </tr>\n",
       "    <tr>\n",
       "      <th>...</th>\n",
       "      <td>...</td>\n",
       "      <td>...</td>\n",
       "      <td>...</td>\n",
       "      <td>...</td>\n",
       "      <td>...</td>\n",
       "      <td>...</td>\n",
       "      <td>...</td>\n",
       "      <td>...</td>\n",
       "      <td>...</td>\n",
       "      <td>...</td>\n",
       "    </tr>\n",
       "    <tr>\n",
       "      <th>7293</th>\n",
       "      <td>Won</td>\n",
       "      <td>5085.000000</td>\n",
       "      <td>0</td>\n",
       "      <td>0</td>\n",
       "      <td>0</td>\n",
       "      <td>0</td>\n",
       "      <td>1</td>\n",
       "      <td>0</td>\n",
       "      <td>0</td>\n",
       "      <td>0.533333</td>\n",
       "    </tr>\n",
       "    <tr>\n",
       "      <th>7294</th>\n",
       "      <td>Won</td>\n",
       "      <td>555.000000</td>\n",
       "      <td>0</td>\n",
       "      <td>1</td>\n",
       "      <td>0</td>\n",
       "      <td>0</td>\n",
       "      <td>0</td>\n",
       "      <td>0</td>\n",
       "      <td>0</td>\n",
       "      <td>8.033333</td>\n",
       "    </tr>\n",
       "    <tr>\n",
       "      <th>7297</th>\n",
       "      <td>Lost</td>\n",
       "      <td>5169.000000</td>\n",
       "      <td>0</td>\n",
       "      <td>0</td>\n",
       "      <td>0</td>\n",
       "      <td>1</td>\n",
       "      <td>0</td>\n",
       "      <td>0</td>\n",
       "      <td>0</td>\n",
       "      <td>6.366667</td>\n",
       "    </tr>\n",
       "    <tr>\n",
       "      <th>7298</th>\n",
       "      <td>Won</td>\n",
       "      <td>4880.000000</td>\n",
       "      <td>0</td>\n",
       "      <td>0</td>\n",
       "      <td>0</td>\n",
       "      <td>1</td>\n",
       "      <td>0</td>\n",
       "      <td>0</td>\n",
       "      <td>0</td>\n",
       "      <td>1.233333</td>\n",
       "    </tr>\n",
       "    <tr>\n",
       "      <th>7299</th>\n",
       "      <td>Won</td>\n",
       "      <td>54.000000</td>\n",
       "      <td>0</td>\n",
       "      <td>0</td>\n",
       "      <td>0</td>\n",
       "      <td>0</td>\n",
       "      <td>0</td>\n",
       "      <td>0</td>\n",
       "      <td>1</td>\n",
       "      <td>23.433333</td>\n",
       "    </tr>\n",
       "  </tbody>\n",
       "</table>\n",
       "<p>5711 rows × 10 columns</p>\n",
       "</div>"
      ],
      "text/plain": [
       "     stage  close_value  GTK 500  GTX Basic  GTX Plus Basic  GTX Plus Pro  \\\n",
       "0      Won  1255.000000        0          0               1             0   \n",
       "1      Won    45.000000        0          0               0             0   \n",
       "2     Lost  1335.458057        0          0               0             0   \n",
       "4      Won  3180.000000        0          0               0             0   \n",
       "5      Won   517.000000        0          1               0             0   \n",
       "...    ...          ...      ...        ...             ...           ...   \n",
       "7293   Won  5085.000000        0          0               0             0   \n",
       "7294   Won   555.000000        0          1               0             0   \n",
       "7297  Lost  5169.000000        0          0               0             1   \n",
       "7298   Won  4880.000000        0          0               0             1   \n",
       "7299   Won    54.000000        0          0               0             0   \n",
       "\n",
       "      GTXPro  MG Advanced  MG Special  diff_months  \n",
       "0          0            0           0     4.700000  \n",
       "1          0            0           1    10.100000  \n",
       "2          0            0           1    11.200000  \n",
       "4          0            1           0     0.800000  \n",
       "5          0            0           0    11.166667  \n",
       "...      ...          ...         ...          ...  \n",
       "7293       1            0           0     0.533333  \n",
       "7294       0            0           0     8.033333  \n",
       "7297       0            0           0     6.366667  \n",
       "7298       0            0           0     1.233333  \n",
       "7299       0            0           1    23.433333  \n",
       "\n",
       "[5711 rows x 10 columns]"
      ]
     },
     "execution_count": 12,
     "metadata": {},
     "output_type": "execute_result"
    }
   ],
   "source": [
    "df"
   ]
  },
  {
   "cell_type": "code",
   "execution_count": 13,
   "id": "5d40280c",
   "metadata": {},
   "outputs": [],
   "source": [
    "x_train,x_test , y_train,y_test = train_test_split(df.drop('stage', axis=1), df.stage, stratify= df.stage,\\\n",
    "                                                   test_size=0.2, random_state=101)"
   ]
  },
  {
   "cell_type": "markdown",
   "id": "27a57cf4",
   "metadata": {},
   "source": [
    "# Random Forest Classifier"
   ]
  },
  {
   "cell_type": "code",
   "execution_count": 14,
   "id": "36e0ad22",
   "metadata": {},
   "outputs": [
    {
     "data": {
      "text/plain": [
       "RandomForestClassifier(class_weight='balanced')"
      ]
     },
     "execution_count": 14,
     "metadata": {},
     "output_type": "execute_result"
    }
   ],
   "source": [
    "clf = RandomForestClassifier(class_weight='balanced')\n",
    "clf.fit(x_train, y_train)\n"
   ]
  },
  {
   "cell_type": "code",
   "execution_count": 15,
   "id": "7e0392b5",
   "metadata": {},
   "outputs": [],
   "source": [
    "y_pred = clf.predict(x_test)"
   ]
  },
  {
   "cell_type": "code",
   "execution_count": 16,
   "id": "45dd9249",
   "metadata": {},
   "outputs": [
    {
     "name": "stdout",
     "output_type": "stream",
     "text": [
      "              precision    recall  f1-score   support\n",
      "\n",
      "        Lost       0.96      0.90      0.93       395\n",
      "         Won       0.95      0.98      0.96       748\n",
      "\n",
      "    accuracy                           0.95      1143\n",
      "   macro avg       0.96      0.94      0.95      1143\n",
      "weighted avg       0.95      0.95      0.95      1143\n",
      "\n"
     ]
    }
   ],
   "source": [
    "print(classification_report(y_test, y_pred))"
   ]
  },
  {
   "cell_type": "code",
   "execution_count": 17,
   "id": "efcf7cfb",
   "metadata": {},
   "outputs": [],
   "source": [
    "features = dict(zip(x_train.columns,clf.feature_importances_)) \n",
    "features = dict(sorted(features.items(), key=lambda item: item[1], reverse=True))"
   ]
  },
  {
   "cell_type": "code",
   "execution_count": 18,
   "id": "b4473365",
   "metadata": {},
   "outputs": [
    {
     "data": {
      "text/plain": [
       "{'close_value': 0.7057760871504362,\n",
       " 'diff_months': 0.13352884679550986,\n",
       " 'MG Advanced': 0.03324107095630138,\n",
       " 'GTX Basic': 0.028742802045415565,\n",
       " 'MG Special': 0.028133620081400194,\n",
       " 'GTX Plus Basic': 0.025186046667775613,\n",
       " 'GTXPro': 0.023271887945052357,\n",
       " 'GTX Plus Pro': 0.02065338964240262,\n",
       " 'GTK 500': 0.001466248715706167}"
      ]
     },
     "execution_count": 18,
     "metadata": {},
     "output_type": "execute_result"
    }
   ],
   "source": [
    "features"
   ]
  },
  {
   "cell_type": "code",
   "execution_count": 19,
   "id": "d535b148",
   "metadata": {},
   "outputs": [
    {
     "data": {
      "image/png": "[encoded data removed]",
      "text/plain": [
       "<Figure size 432x288 with 1 Axes>"
      ]
     },
     "metadata": {
      "needs_background": "light"
     },
     "output_type": "display_data"
    }
   ],
   "source": [
    "fig = plt.barh(list(features.keys()),list(features.values()))"
   ]
  },
  {
   "cell_type": "markdown",
   "id": "76c6ec76",
   "metadata": {},
   "source": [
    "# Decision Tree Classifer"
   ]
  },
  {
   "cell_type": "code",
   "execution_count": 20,
   "id": "968cf9b5",
   "metadata": {},
   "outputs": [
    {
     "data": {
      "text/plain": [
       "DecisionTreeClassifier()"
      ]
     },
     "execution_count": 20,
     "metadata": {},
     "output_type": "execute_result"
    }
   ],
   "source": [
    "dsc = DecisionTreeClassifier()\n",
    "dsc.fit(x_train, y_train)"
   ]
  },
  {
   "cell_type": "code",
   "execution_count": 21,
   "id": "2f7f270b",
   "metadata": {},
   "outputs": [],
   "source": [
    "y_pred = dsc.predict(x_test)"
   ]
  },
  {
   "cell_type": "code",
   "execution_count": 22,
   "id": "28eee3b1",
   "metadata": {},
   "outputs": [
    {
     "name": "stdout",
     "output_type": "stream",
     "text": [
      "              precision    recall  f1-score   support\n",
      "\n",
      "        Lost       0.96      0.93      0.94       395\n",
      "         Won       0.97      0.98      0.97       748\n",
      "\n",
      "    accuracy                           0.96      1143\n",
      "   macro avg       0.96      0.96      0.96      1143\n",
      "weighted avg       0.96      0.96      0.96      1143\n",
      "\n"
     ]
    }
   ],
   "source": [
    "print(classification_report(y_test, y_pred))"
   ]
  },
  {
   "cell_type": "markdown",
   "id": "fc515f9b",
   "metadata": {},
   "source": [
    "# K Neighbors classifier"
   ]
  },
  {
   "cell_type": "code",
   "execution_count": 23,
   "id": "f303386e",
   "metadata": {},
   "outputs": [
    {
     "data": {
      "text/plain": [
       "KNeighborsClassifier(n_neighbors=3)"
      ]
     },
     "execution_count": 23,
     "metadata": {},
     "output_type": "execute_result"
    }
   ],
   "source": [
    "knn = KNeighborsClassifier(n_neighbors=3)\n",
    "knn.fit(x_train,y_train)"
   ]
  },
  {
   "cell_type": "code",
   "execution_count": 24,
   "id": "7ab03041",
   "metadata": {},
   "outputs": [],
   "source": [
    "from datetime import datetime"
   ]
  },
  {
   "cell_type": "code",
   "execution_count": 25,
   "id": "5c90c7ae",
   "metadata": {},
   "outputs": [
    {
     "data": {
      "text/plain": [
       "datetime.timedelta(microseconds=64996)"
      ]
     },
     "execution_count": 25,
     "metadata": {},
     "output_type": "execute_result"
    }
   ],
   "source": [
    "st = datetime.now()\n",
    "y_pred = knn.predict(x_test)\n",
    "datetime.now() - st "
   ]
  },
  {
   "cell_type": "code",
   "execution_count": 26,
   "id": "14f64ade",
   "metadata": {},
   "outputs": [
    {
     "name": "stdout",
     "output_type": "stream",
     "text": [
      "              precision    recall  f1-score   support\n",
      "\n",
      "        Lost       0.85      0.90      0.87       395\n",
      "         Won       0.94      0.92      0.93       748\n",
      "\n",
      "    accuracy                           0.91      1143\n",
      "   macro avg       0.90      0.91      0.90      1143\n",
      "weighted avg       0.91      0.91      0.91      1143\n",
      "\n"
     ]
    }
   ],
   "source": [
    "print(classification_report(y_test, y_pred))"
   ]
  },
  {
   "cell_type": "markdown",
   "id": "23caec43",
   "metadata": {},
   "source": [
    "# Naive bayes"
   ]
  },
  {
   "cell_type": "code",
   "execution_count": 27,
   "id": "14655238",
   "metadata": {},
   "outputs": [
    {
     "data": {
      "text/plain": [
       "MultinomialNB()"
      ]
     },
     "execution_count": 27,
     "metadata": {},
     "output_type": "execute_result"
    }
   ],
   "source": [
    "nbc = MultinomialNB()\n",
    "nbc.fit(x_train,y_train)"
   ]
  },
  {
   "cell_type": "code",
   "execution_count": 28,
   "id": "43d30abd",
   "metadata": {},
   "outputs": [],
   "source": [
    "y_pred = nbc.predict(x_test)"
   ]
  },
  {
   "cell_type": "code",
   "execution_count": 29,
   "id": "0fcf76d4",
   "metadata": {},
   "outputs": [
    {
     "name": "stdout",
     "output_type": "stream",
     "text": [
      "              precision    recall  f1-score   support\n",
      "\n",
      "        Lost       0.43      0.63      0.51       395\n",
      "         Won       0.74      0.57      0.64       748\n",
      "\n",
      "    accuracy                           0.59      1143\n",
      "   macro avg       0.59      0.60      0.58      1143\n",
      "weighted avg       0.64      0.59      0.60      1143\n",
      "\n"
     ]
    }
   ],
   "source": [
    "print(classification_report(y_test, y_pred))"
   ]
  },
  {
   "cell_type": "markdown",
   "id": "cce01adf",
   "metadata": {},
   "source": [
    "### I choose random forest classifier because it is robust to outliers (such as GTK 500) and it's performance is good."
   ]
  },
  {
   "cell_type": "code",
   "execution_count": 114,
   "id": "e2cf6569",
   "metadata": {},
   "outputs": [],
   "source": [
    "analysis_dataframe = df.copy()\n",
    "analysis_dataframe['stage'] = analysis_dataframe.stage.apply(lambda val : 1 if val == 'Won' else 0)"
   ]
  },
  {
   "cell_type": "code",
   "execution_count": 115,
   "id": "7c8a5b49",
   "metadata": {},
   "outputs": [
    {
     "data": {
      "text/plain": [
       "<AxesSubplot:>"
      ]
     },
     "execution_count": 115,
     "metadata": {},
     "output_type": "execute_result"
    },
    {
     "data": {
      "image/png": "[encoded data removed]",
      "text/plain": [
       "<Figure size 432x288 with 2 Axes>"
      ]
     },
     "metadata": {
      "needs_background": "light"
     },
     "output_type": "display_data"
    }
   ],
   "source": [
    "sns.heatmap(analysis_dataframe.corr())"
   ]
  },
  {
   "cell_type": "code",
   "execution_count": 96,
   "id": "8565bb62",
   "metadata": {},
   "outputs": [
    {
     "data": {
      "text/plain": [
       "RandomForestClassifier(class_weight='balanced', criterion='entropy',\n",
       "                       n_estimators=75, n_jobs=-1, random_state=0)"
      ]
     },
     "execution_count": 96,
     "metadata": {},
     "output_type": "execute_result"
    }
   ],
   "source": [
    "clf = RandomForestClassifier(class_weight='balanced',n_jobs=-1, n_estimators=75, random_state=0, criterion='entropy')\n",
    "clf.fit(x_train, y_train)"
   ]
  },
  {
   "cell_type": "code",
   "execution_count": 97,
   "id": "64b3238c",
   "metadata": {},
   "outputs": [],
   "source": [
    "y_pred = clf.predict(x_test)"
   ]
  },
  {
   "cell_type": "code",
   "execution_count": 98,
   "id": "c722bd64",
   "metadata": {},
   "outputs": [
    {
     "data": {
      "text/plain": [
       "LabelEncoder()"
      ]
     },
     "execution_count": 98,
     "metadata": {},
     "output_type": "execute_result"
    }
   ],
   "source": [
    "le = LabelEncoder()\n",
    "le.fit(y_test)"
   ]
  },
  {
   "cell_type": "markdown",
   "id": "7308c4bb",
   "metadata": {},
   "source": [
    "## Because dataset is imbalanced, f1 measure is better than accuracy\n",
    "### I think cohen kappa is better than f1-score, but it was not in measurements!"
   ]
  },
  {
   "cell_type": "code",
   "execution_count": 99,
   "id": "727b64e1",
   "metadata": {},
   "outputs": [
    {
     "name": "stdout",
     "output_type": "stream",
     "text": [
      "0.9518810148731408\n"
     ]
    }
   ],
   "source": [
    "print(accuracy_score(y_test,y_pred))"
   ]
  },
  {
   "cell_type": "code",
   "execution_count": 100,
   "id": "146738db",
   "metadata": {},
   "outputs": [
    {
     "name": "stdout",
     "output_type": "stream",
     "text": [
      "0.9639344262295082\n"
     ]
    }
   ],
   "source": [
    "print(f1_score(le.transform(y_test), le.transform(y_pred)))"
   ]
  },
  {
   "cell_type": "code",
   "execution_count": 35,
   "id": "5975c438",
   "metadata": {},
   "outputs": [
    {
     "data": {
      "text/plain": [
       "<AxesSubplot:xlabel='stage', ylabel='count'>"
      ]
     },
     "execution_count": 35,
     "metadata": {},
     "output_type": "execute_result"
    },
    {
     "data": {
      "image/png": "[encoded data removed]",
      "text/plain": [
       "<Figure size 432x288 with 1 Axes>"
      ]
     },
     "metadata": {
      "needs_background": "light"
     },
     "output_type": "display_data"
    }
   ],
   "source": [
    "sns.countplot(data=df, x='stage')"
   ]
  },
  {
   "cell_type": "code",
   "execution_count": 101,
   "id": "bfdadba1",
   "metadata": {},
   "outputs": [
    {
     "data": {
      "text/plain": [
       "0.8917395549723343"
      ]
     },
     "execution_count": 101,
     "metadata": {},
     "output_type": "execute_result"
    }
   ],
   "source": [
    "cohen_kappa_score(y_pred,y_test)"
   ]
  },
  {
   "cell_type": "code",
   "execution_count": 102,
   "id": "02fb900b",
   "metadata": {},
   "outputs": [
    {
     "name": "stdout",
     "output_type": "stream",
     "text": [
      "              precision    recall  f1-score   support\n",
      "\n",
      "        Lost       0.96      0.89      0.93       395\n",
      "         Won       0.95      0.98      0.96       748\n",
      "\n",
      "    accuracy                           0.95      1143\n",
      "   macro avg       0.96      0.94      0.95      1143\n",
      "weighted avg       0.95      0.95      0.95      1143\n",
      "\n"
     ]
    }
   ],
   "source": [
    "print(classification_report(y_test,y_pred))"
   ]
  },
  {
   "cell_type": "code",
   "execution_count": 103,
   "id": "624990bb",
   "metadata": {},
   "outputs": [
    {
     "data": {
      "text/plain": [
       "array([[353,  42],\n",
       "       [ 13, 735]], dtype=int64)"
      ]
     },
     "execution_count": 103,
     "metadata": {},
     "output_type": "execute_result"
    }
   ],
   "source": [
    "confusion_matrix(y_test,y_pred )"
   ]
  },
  {
   "cell_type": "code",
   "execution_count": 105,
   "id": "4badd9bd",
   "metadata": {},
   "outputs": [
    {
     "data": {
      "text/plain": [
       "<AxesSubplot:>"
      ]
     },
     "execution_count": 105,
     "metadata": {},
     "output_type": "execute_result"
    },
    {
     "data": {
      "image/png": "[encoded data removed]",
      "text/plain": [
       "<Figure size 432x288 with 2 Axes>"
      ]
     },
     "metadata": {
      "needs_background": "light"
     },
     "output_type": "display_data"
    }
   ],
   "source": [
    "sns.heatmap(confusion_matrix(y_test,y_pred))"
   ]
  },
  {
   "cell_type": "code",
   "execution_count": 106,
   "id": "f672dcaf",
   "metadata": {},
   "outputs": [],
   "source": [
    "import joblib"
   ]
  },
  {
   "cell_type": "code",
   "execution_count": 107,
   "id": "100b8a49",
   "metadata": {},
   "outputs": [
    {
     "data": {
      "text/plain": [
       "['./best_model.joblib']"
      ]
     },
     "execution_count": 107,
     "metadata": {},
     "output_type": "execute_result"
    }
   ],
   "source": [
    "joblib.dump(clf, './best_model.joblib')"
   ]
  }
 ],
 "metadata": {
  "kernelspec": {
   "display_name": "Python 3",
   "language": "python",
   "name": "python3"
  },
  "language_info": {
   "codemirror_mode": {
    "name": "ipython",
    "version": 3
   },
   "file_extension": ".py",
   "mimetype": "text/x-python",
   "name": "python",
   "nbconvert_exporter": "python",
   "pygments_lexer": "ipython3",
   "version": "3.9.0"
  }
 },
 "nbformat": 4,
 "nbformat_minor": 5
}
