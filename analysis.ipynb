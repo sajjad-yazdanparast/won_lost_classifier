{
 "cells": [
  {
   "cell_type": "code",
   "execution_count": 138,
   "id": "d39a0d55",
   "metadata": {},
   "outputs": [],
   "source": [
    "import pandas as pd \n",
    "import numpy as np \n",
    "import matplotlib.pyplot as plt\n",
    "import seaborn as sns "
   ]
  },
  {
   "cell_type": "code",
   "execution_count": 2,
   "id": "df18351f",
   "metadata": {},
   "outputs": [],
   "source": [
    "df = pd.read_excel('./dataset.xls')"
   ]
  },
  {
   "cell_type": "code",
   "execution_count": 3,
   "id": "b056b029",
   "metadata": {},
   "outputs": [],
   "source": [
    "df.drop(['Unnamed: 0'], axis=1, inplace=True)"
   ]
  },
  {
   "cell_type": "code",
   "execution_count": 4,
   "id": "68a190a7",
   "metadata": {},
   "outputs": [
    {
     "data": {
      "text/plain": [
       "Index(['Customer', 'Agent', 'SalesAgentEmailID', 'ContactEmailID', 'Stage',\n",
       "       'Product', 'Close_Value', 'Created Date', 'Close Date'],\n",
       "      dtype='object')"
      ]
     },
     "execution_count": 4,
     "metadata": {},
     "output_type": "execute_result"
    }
   ],
   "source": [
    "df.columns"
   ]
  },
  {
   "cell_type": "code",
   "execution_count": 5,
   "id": "63932b2a",
   "metadata": {},
   "outputs": [],
   "source": [
    "df.columns = ['customer', 'agent', 'sales_agent_emailID', 'contact_emailID', 'stage', \\\n",
    "       'product', 'close_value', 'created_date', 'close_date']"
   ]
  },
  {
   "cell_type": "code",
   "execution_count": 6,
   "id": "234228c8",
   "metadata": {},
   "outputs": [
    {
     "data": {
      "text/plain": [
       "(7800, 9)"
      ]
     },
     "execution_count": 6,
     "metadata": {},
     "output_type": "execute_result"
    }
   ],
   "source": [
    "df.shape"
   ]
  },
  {
   "cell_type": "code",
   "execution_count": 7,
   "id": "b6d1789b",
   "metadata": {},
   "outputs": [
    {
     "data": {
      "text/plain": [
       "customer                  0\n",
       "agent                     0\n",
       "sales_agent_emailID       0\n",
       "contact_emailID           0\n",
       "stage                     0\n",
       "product                   0\n",
       "close_value            1208\n",
       "created_date              0\n",
       "close_date                0\n",
       "dtype: int64"
      ]
     },
     "execution_count": 7,
     "metadata": {},
     "output_type": "execute_result"
    }
   ],
   "source": [
    "df.isna().sum()"
   ]
  },
  {
   "cell_type": "markdown",
   "id": "a13a1c07",
   "metadata": {},
   "source": [
    "## I decided to train a model to predict *In Progress* values"
   ]
  },
  {
   "cell_type": "markdown",
   "id": "f5deecb1",
   "metadata": {},
   "source": [
    "### First of all i should fill NA values for *close_value* with mean of close_value for won and lost classes."
   ]
  },
  {
   "cell_type": "code",
   "execution_count": 8,
   "id": "94a6455a",
   "metadata": {},
   "outputs": [
    {
     "data": {
      "text/plain": [
       "Won            601\n",
       "Lost           316\n",
       "In Progress    291\n",
       "Name: stage, dtype: int64"
      ]
     },
     "execution_count": 8,
     "metadata": {},
     "output_type": "execute_result"
    }
   ],
   "source": [
    "df[df.close_value.isna()].stage.value_counts()"
   ]
  },
  {
   "cell_type": "code",
   "execution_count": 51,
   "id": "8f1ff9a9",
   "metadata": {},
   "outputs": [],
   "source": [
    "won_mean = df[df.stage=='Won'].close_value.mean()\n",
    "lost_mean = df[df.stage=='Lost'].close_value.mean()\n",
    "overall_mean = df.close_value.mean()\n"
   ]
  },
  {
   "cell_type": "code",
   "execution_count": 63,
   "id": "829e65fd",
   "metadata": {},
   "outputs": [],
   "source": [
    "df.loc[(df.close_value.isna()) & (df.stage=='Won') ,'close_value'] = won_mean"
   ]
  },
  {
   "cell_type": "code",
   "execution_count": 73,
   "id": "ba484018",
   "metadata": {},
   "outputs": [],
   "source": [
    "df.loc[(df.close_value.isna()) & (df.stage=='Lost') ,'close_value'] = lost_mean"
   ]
  },
  {
   "cell_type": "code",
   "execution_count": 70,
   "id": "38b01c7e",
   "metadata": {},
   "outputs": [],
   "source": [
    "df.loc[(df.close_value.isna()) & (df.stage=='In Progress') ,'close_value'] = overall_mean"
   ]
  },
  {
   "cell_type": "code",
   "execution_count": 75,
   "id": "42f277a4",
   "metadata": {},
   "outputs": [
    {
     "data": {
      "text/plain": [
       "customer               0\n",
       "agent                  0\n",
       "sales_agent_emailID    0\n",
       "contact_emailID        0\n",
       "stage                  0\n",
       "product                0\n",
       "close_value            0\n",
       "created_date           0\n",
       "close_date             0\n",
       "dtype: int64"
      ]
     },
     "execution_count": 75,
     "metadata": {},
     "output_type": "execute_result"
    }
   ],
   "source": [
    "df.isna().sum()"
   ]
  },
  {
   "cell_type": "code",
   "execution_count": 105,
   "id": "18ffae0e",
   "metadata": {},
   "outputs": [],
   "source": [
    "from sklearn.preprocessing import LabelEncoder\n",
    "from sklearn.ensemble import RandomForestClassifier\n",
    "from sklearn.model_selection import train_test_split\n",
    "from sklearn.metrics import classification_report"
   ]
  },
  {
   "cell_type": "code",
   "execution_count": 109,
   "id": "5fd3d64a",
   "metadata": {},
   "outputs": [],
   "source": [
    "class Predictor :\n",
    "    \n",
    "    \n",
    "    def __init__ (self, df:pd.DataFrame) :\n",
    "        \n",
    "        self.data = df.copy()\n",
    "        self.le = LabelEncoder()\n",
    "    \n",
    "    def preprocess (self) :\n",
    "        \n",
    "        self.data.drop(['customer','sales_agent_emailID', 'contact_emailID' ], axis=1, inplace=True)\n",
    "        \n",
    "        self.data['diff_days'] = (self.data.close_date - self.data.created_date).dt.components.days\n",
    "        \n",
    "        self.data = self.data.join(pd.get_dummies(self.data['product'])).drop('product', axis=1)\n",
    "        \n",
    "        self.data.drop(['close_date', 'created_date'], axis=1, inplace=True)\n",
    "    \n",
    "        self.data.agent = le.fit_transform(self.data.agent)\n",
    "        \n",
    "        \n",
    "    def generate_train_test (self) :\n",
    "        data = self.data[self.data.stage!='In Progress']\n",
    "        self.x_train,self.x_test , self.y_train,self.y_test = train_test_split(data.drop('stage',axis=1), \\\n",
    "                                                                               data.stage, random_state=101,\\\n",
    "                                                                               stratify = data.stage)\n",
    "        \n",
    "    def learn_model (self) :\n",
    "        \n",
    "        self.model = RandomForestClassifier()\n",
    "        self.generate_train_test() \n",
    "        \n",
    "        self.model.fit(self.x_train,self.y_train)\n",
    "        \n",
    "        return self.model\n",
    "    \n",
    "    \n",
    "    def evaluate (self) :\n",
    "        y_pred = self.model.predict(self.x_test) \n",
    "        \n",
    "        print(classification_report(self.y_test, y_pred))\n",
    "    \n",
    "    def predict (self):\n",
    "    \n",
    "        y_pred = self.model.predict(self.data[self.data.stage=='In Progress'].drop('stage', axis=1))\n",
    "        \n",
    "        return y_pred\n",
    "        \n",
    "    \n",
    "        \n",
    "        \n",
    "        \n",
    "    \n",
    "        "
   ]
  },
  {
   "cell_type": "code",
   "execution_count": 112,
   "id": "f2b068f1",
   "metadata": {},
   "outputs": [
    {
     "data": {
      "text/plain": [
       "RandomForestClassifier()"
      ]
     },
     "execution_count": 112,
     "metadata": {},
     "output_type": "execute_result"
    }
   ],
   "source": [
    "predictor = Predictor(df)\n",
    "\n",
    "predictor.preprocess()\n",
    "\n",
    "\n",
    "predictor.learn_model()\n",
    "\n"
   ]
  },
  {
   "cell_type": "code",
   "execution_count": 111,
   "id": "189b8ce1",
   "metadata": {},
   "outputs": [
    {
     "name": "stdout",
     "output_type": "stream",
     "text": [
      "              precision    recall  f1-score   support\n",
      "\n",
      "        Lost       0.99      0.82      0.90       493\n",
      "         Won       0.91      0.99      0.95       935\n",
      "\n",
      "    accuracy                           0.94      1428\n",
      "   macro avg       0.95      0.91      0.93      1428\n",
      "weighted avg       0.94      0.94      0.93      1428\n",
      "\n"
     ]
    }
   ],
   "source": [
    "predictor.evaluate()"
   ]
  },
  {
   "cell_type": "code",
   "execution_count": 113,
   "id": "2c38246c",
   "metadata": {},
   "outputs": [],
   "source": [
    "df.loc[df.stage=='In Progress', 'stage'] = predictor.predict()"
   ]
  },
  {
   "cell_type": "markdown",
   "id": "005e7ab2",
   "metadata": {},
   "source": [
    "## Which customers are more royal ?\n",
    "### By the means of Number of boughts!"
   ]
  },
  {
   "cell_type": "code",
   "execution_count": 160,
   "id": "e28ec3f6",
   "metadata": {},
   "outputs": [
    {
     "data": {
      "text/plain": [
       "<AxesSubplot:>"
      ]
     },
     "execution_count": 160,
     "metadata": {},
     "output_type": "execute_result"
    },
    {
     "data": {
      "image/png": "[encoded data removed]",
      "text/plain": [
       "<Figure size 432x288 with 1 Axes>"
      ]
     },
     "metadata": {
      "needs_background": "light"
     },
     "output_type": "display_data"
    }
   ],
   "source": [
    "df.customer.value_counts().sort_values(ascending=False).head().plot.barh()"
   ]
  },
  {
   "cell_type": "markdown",
   "id": "db8f3e20",
   "metadata": {},
   "source": [
    "### By the means of amount of money they have been payed!"
   ]
  },
  {
   "cell_type": "code",
   "execution_count": 162,
   "id": "3eb294fd",
   "metadata": {},
   "outputs": [
    {
     "data": {
      "text/plain": [
       "<AxesSubplot:ylabel='customer'>"
      ]
     },
     "execution_count": 162,
     "metadata": {},
     "output_type": "execute_result"
    },
    {
     "data": {
      "image/png": "[encoded data removed]",
      "text/plain": [
       "<Figure size 432x288 with 1 Axes>"
      ]
     },
     "metadata": {
      "needs_background": "light"
     },
     "output_type": "display_data"
    }
   ],
   "source": [
    "df.groupby('customer').mean()[['close_value']].sort_values(by='close_value', ascending=False).head().close_value.plot.barh()"
   ]
  },
  {
   "cell_type": "markdown",
   "id": "307f0d7f",
   "metadata": {},
   "source": [
    "## There are 30 agents in the dataset."
   ]
  },
  {
   "cell_type": "code",
   "execution_count": 129,
   "id": "0f252063",
   "metadata": {},
   "outputs": [
    {
     "data": {
      "text/plain": [
       "30"
      ]
     },
     "execution_count": 129,
     "metadata": {},
     "output_type": "execute_result"
    }
   ],
   "source": [
    "df.agent.nunique()"
   ]
  },
  {
   "cell_type": "markdown",
   "id": "96154bbb",
   "metadata": {},
   "source": [
    "## Let's calculate rate of won for each sale.\n",
    "### If a sale is in progress I will take it as None for not effecting rate of won-lost sales."
   ]
  },
  {
   "cell_type": "code",
   "execution_count": 116,
   "id": "7edaab1c",
   "metadata": {},
   "outputs": [],
   "source": [
    "def numerical_stage(row) :\n",
    "    if row['stage'] == 'Won':\n",
    "        return 1 \n",
    "    \n",
    "    return -1 \n",
    "\n",
    "df['rate'] = df.apply(numerical_stage, axis=1)"
   ]
  },
  {
   "cell_type": "code",
   "execution_count": 117,
   "id": "55bb14eb",
   "metadata": {},
   "outputs": [],
   "source": [
    "df = df.join(pd.get_dummies(df.stage))"
   ]
  },
  {
   "cell_type": "markdown",
   "id": "d90ded6d",
   "metadata": {},
   "source": [
    "## Let's see top 10 Agents by the means of rate"
   ]
  },
  {
   "cell_type": "code",
   "execution_count": 122,
   "id": "84a1e928",
   "metadata": {},
   "outputs": [
    {
     "data": {
      "text/plain": [
       "<AxesSubplot:ylabel='agent'>"
      ]
     },
     "execution_count": 122,
     "metadata": {},
     "output_type": "execute_result"
    },
    {
     "data": {
      "image/png": "[encoded data removed]",
      "text/plain": [
       "<Figure size 432x288 with 1 Axes>"
      ]
     },
     "metadata": {
      "needs_background": "light"
     },
     "output_type": "display_data"
    }
   ],
   "source": [
    "df.groupby('agent').mean().sort_values('rate',ascending=False).head(10).rate.plot.barh()"
   ]
  },
  {
   "cell_type": "code",
   "execution_count": 123,
   "id": "0fd978e6",
   "metadata": {},
   "outputs": [
    {
     "data": {
      "text/html": [
       "<div>\n",
       "<style scoped>\n",
       "    .dataframe tbody tr th:only-of-type {\n",
       "        vertical-align: middle;\n",
       "    }\n",
       "\n",
       "    .dataframe tbody tr th {\n",
       "        vertical-align: top;\n",
       "    }\n",
       "\n",
       "    .dataframe thead th {\n",
       "        text-align: right;\n",
       "    }\n",
       "</style>\n",
       "<table border=\"1\" class=\"dataframe\">\n",
       "  <thead>\n",
       "    <tr style=\"text-align: right;\">\n",
       "      <th></th>\n",
       "      <th>close_value</th>\n",
       "      <th>rate</th>\n",
       "      <th>Lost</th>\n",
       "      <th>Won</th>\n",
       "    </tr>\n",
       "    <tr>\n",
       "      <th>agent</th>\n",
       "      <th></th>\n",
       "      <th></th>\n",
       "      <th></th>\n",
       "      <th></th>\n",
       "    </tr>\n",
       "  </thead>\n",
       "  <tbody>\n",
       "    <tr>\n",
       "      <th>Reed Clapper</th>\n",
       "      <td>2256.936356</td>\n",
       "      <td>0.346535</td>\n",
       "      <td>0.326733</td>\n",
       "      <td>0.673267</td>\n",
       "    </tr>\n",
       "    <tr>\n",
       "      <th>Garret Kinder</th>\n",
       "      <td>1994.480280</td>\n",
       "      <td>0.244898</td>\n",
       "      <td>0.377551</td>\n",
       "      <td>0.622449</td>\n",
       "    </tr>\n",
       "    <tr>\n",
       "      <th>Donn Cantrell</th>\n",
       "      <td>2214.729005</td>\n",
       "      <td>0.179487</td>\n",
       "      <td>0.410256</td>\n",
       "      <td>0.589744</td>\n",
       "    </tr>\n",
       "    <tr>\n",
       "      <th>James Ascencio</th>\n",
       "      <td>2283.977639</td>\n",
       "      <td>0.115880</td>\n",
       "      <td>0.442060</td>\n",
       "      <td>0.557940</td>\n",
       "    </tr>\n",
       "    <tr>\n",
       "      <th>Cecily Lampkin</th>\n",
       "      <td>1678.023135</td>\n",
       "      <td>0.104972</td>\n",
       "      <td>0.447514</td>\n",
       "      <td>0.552486</td>\n",
       "    </tr>\n",
       "    <tr>\n",
       "      <th>Jonathan Berthelot</th>\n",
       "      <td>1518.069025</td>\n",
       "      <td>0.092652</td>\n",
       "      <td>0.453674</td>\n",
       "      <td>0.546326</td>\n",
       "    </tr>\n",
       "    <tr>\n",
       "      <th>Maureen Marcano</th>\n",
       "      <td>1976.162340</td>\n",
       "      <td>0.090196</td>\n",
       "      <td>0.454902</td>\n",
       "      <td>0.545098</td>\n",
       "    </tr>\n",
       "    <tr>\n",
       "      <th>Kami Bicknell</th>\n",
       "      <td>1770.219236</td>\n",
       "      <td>0.059937</td>\n",
       "      <td>0.470032</td>\n",
       "      <td>0.529968</td>\n",
       "    </tr>\n",
       "    <tr>\n",
       "      <th>Hayden Neloms</th>\n",
       "      <td>1948.649924</td>\n",
       "      <td>0.057471</td>\n",
       "      <td>0.471264</td>\n",
       "      <td>0.528736</td>\n",
       "    </tr>\n",
       "    <tr>\n",
       "      <th>Versie Hillebrand</th>\n",
       "      <td>1345.776851</td>\n",
       "      <td>0.057402</td>\n",
       "      <td>0.471299</td>\n",
       "      <td>0.528701</td>\n",
       "    </tr>\n",
       "  </tbody>\n",
       "</table>\n",
       "</div>"
      ],
      "text/plain": [
       "                    close_value      rate      Lost       Won\n",
       "agent                                                        \n",
       "Reed Clapper        2256.936356  0.346535  0.326733  0.673267\n",
       "Garret Kinder       1994.480280  0.244898  0.377551  0.622449\n",
       "Donn Cantrell       2214.729005  0.179487  0.410256  0.589744\n",
       "James Ascencio      2283.977639  0.115880  0.442060  0.557940\n",
       "Cecily Lampkin      1678.023135  0.104972  0.447514  0.552486\n",
       "Jonathan Berthelot  1518.069025  0.092652  0.453674  0.546326\n",
       "Maureen Marcano     1976.162340  0.090196  0.454902  0.545098\n",
       "Kami Bicknell       1770.219236  0.059937  0.470032  0.529968\n",
       "Hayden Neloms       1948.649924  0.057471  0.471264  0.528736\n",
       "Versie Hillebrand   1345.776851  0.057402  0.471299  0.528701"
      ]
     },
     "execution_count": 123,
     "metadata": {},
     "output_type": "execute_result"
    }
   ],
   "source": [
    "df.groupby('agent').mean().sort_values('rate',ascending=False).head(10)"
   ]
  },
  {
   "cell_type": "markdown",
   "id": "8bd97d3f",
   "metadata": {},
   "source": [
    "## What is best seller in dataset ?\n",
    "### According to table below& *GTX Basic* is best seller!"
   ]
  },
  {
   "cell_type": "code",
   "execution_count": 132,
   "id": "971e502b",
   "metadata": {},
   "outputs": [
    {
     "data": {
      "text/html": [
       "<div>\n",
       "<style scoped>\n",
       "    .dataframe tbody tr th:only-of-type {\n",
       "        vertical-align: middle;\n",
       "    }\n",
       "\n",
       "    .dataframe tbody tr th {\n",
       "        vertical-align: top;\n",
       "    }\n",
       "\n",
       "    .dataframe thead th {\n",
       "        text-align: right;\n",
       "    }\n",
       "</style>\n",
       "<table border=\"1\" class=\"dataframe\">\n",
       "  <thead>\n",
       "    <tr style=\"text-align: right;\">\n",
       "      <th></th>\n",
       "      <th>close_value</th>\n",
       "      <th>rate</th>\n",
       "      <th>Lost</th>\n",
       "      <th>Won</th>\n",
       "    </tr>\n",
       "    <tr>\n",
       "      <th>product</th>\n",
       "      <th></th>\n",
       "      <th></th>\n",
       "      <th></th>\n",
       "      <th></th>\n",
       "    </tr>\n",
       "  </thead>\n",
       "  <tbody>\n",
       "    <tr>\n",
       "      <th>GTX Basic</th>\n",
       "      <td>1130.049599</td>\n",
       "      <td>0.071515</td>\n",
       "      <td>0.464242</td>\n",
       "      <td>0.535758</td>\n",
       "    </tr>\n",
       "    <tr>\n",
       "      <th>GTXPro</th>\n",
       "      <td>2975.841343</td>\n",
       "      <td>0.066463</td>\n",
       "      <td>0.466769</td>\n",
       "      <td>0.533231</td>\n",
       "    </tr>\n",
       "    <tr>\n",
       "      <th>GTX Plus Basic</th>\n",
       "      <td>1279.542082</td>\n",
       "      <td>0.048163</td>\n",
       "      <td>0.475918</td>\n",
       "      <td>0.524082</td>\n",
       "    </tr>\n",
       "    <tr>\n",
       "      <th>GTX Plus Pro</th>\n",
       "      <td>3099.242751</td>\n",
       "      <td>0.030162</td>\n",
       "      <td>0.484919</td>\n",
       "      <td>0.515081</td>\n",
       "    </tr>\n",
       "    <tr>\n",
       "      <th>MG Special</th>\n",
       "      <td>919.162357</td>\n",
       "      <td>0.016393</td>\n",
       "      <td>0.491803</td>\n",
       "      <td>0.508197</td>\n",
       "    </tr>\n",
       "    <tr>\n",
       "      <th>MG Advanced</th>\n",
       "      <td>2274.520477</td>\n",
       "      <td>-0.039936</td>\n",
       "      <td>0.519968</td>\n",
       "      <td>0.480032</td>\n",
       "    </tr>\n",
       "    <tr>\n",
       "      <th>GTK 500</th>\n",
       "      <td>10952.665502</td>\n",
       "      <td>-0.052632</td>\n",
       "      <td>0.526316</td>\n",
       "      <td>0.473684</td>\n",
       "    </tr>\n",
       "  </tbody>\n",
       "</table>\n",
       "</div>"
      ],
      "text/plain": [
       "                 close_value      rate      Lost       Won\n",
       "product                                                   \n",
       "GTX Basic        1130.049599  0.071515  0.464242  0.535758\n",
       "GTXPro           2975.841343  0.066463  0.466769  0.533231\n",
       "GTX Plus Basic   1279.542082  0.048163  0.475918  0.524082\n",
       "GTX Plus Pro     3099.242751  0.030162  0.484919  0.515081\n",
       "MG Special        919.162357  0.016393  0.491803  0.508197\n",
       "MG Advanced      2274.520477 -0.039936  0.519968  0.480032\n",
       "GTK 500         10952.665502 -0.052632  0.526316  0.473684"
      ]
     },
     "execution_count": 132,
     "metadata": {},
     "output_type": "execute_result"
    }
   ],
   "source": [
    "df.groupby('product').mean().sort_values('rate', ascending=False)"
   ]
  },
  {
   "cell_type": "markdown",
   "id": "173a602d",
   "metadata": {},
   "source": [
    "## According to table above, worst item is *GTK 500* .\n",
    "### So the question is who can sell this item better than any one ?"
   ]
  },
  {
   "cell_type": "code",
   "execution_count": 124,
   "id": "b19192b4",
   "metadata": {},
   "outputs": [
    {
     "data": {
      "text/html": [
       "<div>\n",
       "<style scoped>\n",
       "    .dataframe tbody tr th:only-of-type {\n",
       "        vertical-align: middle;\n",
       "    }\n",
       "\n",
       "    .dataframe tbody tr th {\n",
       "        vertical-align: top;\n",
       "    }\n",
       "\n",
       "    .dataframe thead th {\n",
       "        text-align: right;\n",
       "    }\n",
       "</style>\n",
       "<table border=\"1\" class=\"dataframe\">\n",
       "  <thead>\n",
       "    <tr style=\"text-align: right;\">\n",
       "      <th></th>\n",
       "      <th>close_value</th>\n",
       "      <th>rate</th>\n",
       "      <th>Lost</th>\n",
       "      <th>Won</th>\n",
       "    </tr>\n",
       "    <tr>\n",
       "      <th>product</th>\n",
       "      <th></th>\n",
       "      <th></th>\n",
       "      <th></th>\n",
       "      <th></th>\n",
       "    </tr>\n",
       "  </thead>\n",
       "  <tbody>\n",
       "    <tr>\n",
       "      <th>GTX Basic</th>\n",
       "      <td>1130.049599</td>\n",
       "      <td>0.071515</td>\n",
       "      <td>0.464242</td>\n",
       "      <td>0.535758</td>\n",
       "    </tr>\n",
       "    <tr>\n",
       "      <th>GTXPro</th>\n",
       "      <td>2975.841343</td>\n",
       "      <td>0.066463</td>\n",
       "      <td>0.466769</td>\n",
       "      <td>0.533231</td>\n",
       "    </tr>\n",
       "    <tr>\n",
       "      <th>GTX Plus Basic</th>\n",
       "      <td>1279.542082</td>\n",
       "      <td>0.048163</td>\n",
       "      <td>0.475918</td>\n",
       "      <td>0.524082</td>\n",
       "    </tr>\n",
       "    <tr>\n",
       "      <th>GTX Plus Pro</th>\n",
       "      <td>3099.242751</td>\n",
       "      <td>0.030162</td>\n",
       "      <td>0.484919</td>\n",
       "      <td>0.515081</td>\n",
       "    </tr>\n",
       "    <tr>\n",
       "      <th>MG Special</th>\n",
       "      <td>919.162357</td>\n",
       "      <td>0.016393</td>\n",
       "      <td>0.491803</td>\n",
       "      <td>0.508197</td>\n",
       "    </tr>\n",
       "    <tr>\n",
       "      <th>MG Advanced</th>\n",
       "      <td>2274.520477</td>\n",
       "      <td>-0.039936</td>\n",
       "      <td>0.519968</td>\n",
       "      <td>0.480032</td>\n",
       "    </tr>\n",
       "    <tr>\n",
       "      <th>GTK 500</th>\n",
       "      <td>10952.665502</td>\n",
       "      <td>-0.052632</td>\n",
       "      <td>0.526316</td>\n",
       "      <td>0.473684</td>\n",
       "    </tr>\n",
       "  </tbody>\n",
       "</table>\n",
       "</div>"
      ],
      "text/plain": [
       "                 close_value      rate      Lost       Won\n",
       "product                                                   \n",
       "GTX Basic        1130.049599  0.071515  0.464242  0.535758\n",
       "GTXPro           2975.841343  0.066463  0.466769  0.533231\n",
       "GTX Plus Basic   1279.542082  0.048163  0.475918  0.524082\n",
       "GTX Plus Pro     3099.242751  0.030162  0.484919  0.515081\n",
       "MG Special        919.162357  0.016393  0.491803  0.508197\n",
       "MG Advanced      2274.520477 -0.039936  0.519968  0.480032\n",
       "GTK 500         10952.665502 -0.052632  0.526316  0.473684"
      ]
     },
     "execution_count": 124,
     "metadata": {},
     "output_type": "execute_result"
    }
   ],
   "source": [
    "df.groupby('product').mean().sort_values('rate', ascending=False)"
   ]
  },
  {
   "cell_type": "markdown",
   "id": "fe3e656e",
   "metadata": {},
   "source": [
    "## *Rosalina Dieter* has sold *GTK 500* better than any one"
   ]
  },
  {
   "cell_type": "code",
   "execution_count": 128,
   "id": "4c5e0a04",
   "metadata": {},
   "outputs": [
    {
     "data": {
      "text/html": [
       "<div>\n",
       "<style scoped>\n",
       "    .dataframe tbody tr th:only-of-type {\n",
       "        vertical-align: middle;\n",
       "    }\n",
       "\n",
       "    .dataframe tbody tr th {\n",
       "        vertical-align: top;\n",
       "    }\n",
       "\n",
       "    .dataframe thead th {\n",
       "        text-align: right;\n",
       "    }\n",
       "</style>\n",
       "<table border=\"1\" class=\"dataframe\">\n",
       "  <thead>\n",
       "    <tr style=\"text-align: right;\">\n",
       "      <th></th>\n",
       "      <th>close_value</th>\n",
       "      <th>rate</th>\n",
       "      <th>Lost</th>\n",
       "      <th>Won</th>\n",
       "    </tr>\n",
       "    <tr>\n",
       "      <th>agent</th>\n",
       "      <th></th>\n",
       "      <th></th>\n",
       "      <th></th>\n",
       "      <th></th>\n",
       "    </tr>\n",
       "  </thead>\n",
       "  <tbody>\n",
       "    <tr>\n",
       "      <th>Rosalina Dieter</th>\n",
       "      <td>137483.000000</td>\n",
       "      <td>5</td>\n",
       "      <td>1</td>\n",
       "      <td>6</td>\n",
       "    </tr>\n",
       "    <tr>\n",
       "      <th>Elease Gluck</th>\n",
       "      <td>184193.458057</td>\n",
       "      <td>0</td>\n",
       "      <td>9</td>\n",
       "      <td>9</td>\n",
       "    </tr>\n",
       "    <tr>\n",
       "      <th>Corliss Cosme</th>\n",
       "      <td>1014.000000</td>\n",
       "      <td>-1</td>\n",
       "      <td>1</td>\n",
       "      <td>0</td>\n",
       "    </tr>\n",
       "    <tr>\n",
       "      <th>Darcel Schlecht</th>\n",
       "      <td>493.000000</td>\n",
       "      <td>-1</td>\n",
       "      <td>1</td>\n",
       "      <td>0</td>\n",
       "    </tr>\n",
       "    <tr>\n",
       "      <th>Marty Freudenburg</th>\n",
       "      <td>1852.915504</td>\n",
       "      <td>-1</td>\n",
       "      <td>1</td>\n",
       "      <td>0</td>\n",
       "    </tr>\n",
       "    <tr>\n",
       "      <th>Markita Hansen</th>\n",
       "      <td>91164.915504</td>\n",
       "      <td>-4</td>\n",
       "      <td>7</td>\n",
       "      <td>3</td>\n",
       "    </tr>\n",
       "  </tbody>\n",
       "</table>\n",
       "</div>"
      ],
      "text/plain": [
       "                     close_value  rate  Lost  Won\n",
       "agent                                            \n",
       "Rosalina Dieter    137483.000000     5     1    6\n",
       "Elease Gluck       184193.458057     0     9    9\n",
       "Corliss Cosme        1014.000000    -1     1    0\n",
       "Darcel Schlecht       493.000000    -1     1    0\n",
       "Marty Freudenburg    1852.915504    -1     1    0\n",
       "Markita Hansen      91164.915504    -4     7    3"
      ]
     },
     "execution_count": 128,
     "metadata": {},
     "output_type": "execute_result"
    }
   ],
   "source": [
    "df[df['product']=='GTK 500'].groupby('agent').sum().sort_values('rate', ascending=False)"
   ]
  },
  {
   "cell_type": "code",
   "execution_count": 129,
   "id": "01e3128a",
   "metadata": {},
   "outputs": [
    {
     "data": {
      "text/html": [
       "<div>\n",
       "<style scoped>\n",
       "    .dataframe tbody tr th:only-of-type {\n",
       "        vertical-align: middle;\n",
       "    }\n",
       "\n",
       "    .dataframe tbody tr th {\n",
       "        vertical-align: top;\n",
       "    }\n",
       "\n",
       "    .dataframe thead th {\n",
       "        text-align: right;\n",
       "    }\n",
       "</style>\n",
       "<table border=\"1\" class=\"dataframe\">\n",
       "  <thead>\n",
       "    <tr style=\"text-align: right;\">\n",
       "      <th></th>\n",
       "      <th>close_value</th>\n",
       "      <th>rate</th>\n",
       "      <th>Lost</th>\n",
       "      <th>Won</th>\n",
       "    </tr>\n",
       "    <tr>\n",
       "      <th>agent</th>\n",
       "      <th></th>\n",
       "      <th></th>\n",
       "      <th></th>\n",
       "      <th></th>\n",
       "    </tr>\n",
       "  </thead>\n",
       "  <tbody>\n",
       "    <tr>\n",
       "      <th>Rosalina Dieter</th>\n",
       "      <td>19640.428571</td>\n",
       "      <td>0.714286</td>\n",
       "      <td>0.142857</td>\n",
       "      <td>0.857143</td>\n",
       "    </tr>\n",
       "    <tr>\n",
       "      <th>Elease Gluck</th>\n",
       "      <td>10232.969892</td>\n",
       "      <td>0.000000</td>\n",
       "      <td>0.500000</td>\n",
       "      <td>0.500000</td>\n",
       "    </tr>\n",
       "    <tr>\n",
       "      <th>Markita Hansen</th>\n",
       "      <td>9116.491550</td>\n",
       "      <td>-0.400000</td>\n",
       "      <td>0.700000</td>\n",
       "      <td>0.300000</td>\n",
       "    </tr>\n",
       "    <tr>\n",
       "      <th>Corliss Cosme</th>\n",
       "      <td>1014.000000</td>\n",
       "      <td>-1.000000</td>\n",
       "      <td>1.000000</td>\n",
       "      <td>0.000000</td>\n",
       "    </tr>\n",
       "    <tr>\n",
       "      <th>Darcel Schlecht</th>\n",
       "      <td>493.000000</td>\n",
       "      <td>-1.000000</td>\n",
       "      <td>1.000000</td>\n",
       "      <td>0.000000</td>\n",
       "    </tr>\n",
       "    <tr>\n",
       "      <th>Marty Freudenburg</th>\n",
       "      <td>1852.915504</td>\n",
       "      <td>-1.000000</td>\n",
       "      <td>1.000000</td>\n",
       "      <td>0.000000</td>\n",
       "    </tr>\n",
       "  </tbody>\n",
       "</table>\n",
       "</div>"
      ],
      "text/plain": [
       "                    close_value      rate      Lost       Won\n",
       "agent                                                        \n",
       "Rosalina Dieter    19640.428571  0.714286  0.142857  0.857143\n",
       "Elease Gluck       10232.969892  0.000000  0.500000  0.500000\n",
       "Markita Hansen      9116.491550 -0.400000  0.700000  0.300000\n",
       "Corliss Cosme       1014.000000 -1.000000  1.000000  0.000000\n",
       "Darcel Schlecht      493.000000 -1.000000  1.000000  0.000000\n",
       "Marty Freudenburg   1852.915504 -1.000000  1.000000  0.000000"
      ]
     },
     "execution_count": 129,
     "metadata": {},
     "output_type": "execute_result"
    }
   ],
   "source": [
    "df[df['product']=='GTK 500'].groupby('agent').mean().sort_values('rate', ascending=False)"
   ]
  },
  {
   "cell_type": "markdown",
   "id": "3efeec08",
   "metadata": {},
   "source": [
    "## Let's play with time!\n"
   ]
  },
  {
   "cell_type": "code",
   "execution_count": 134,
   "id": "3e6c7b9e",
   "metadata": {},
   "outputs": [],
   "source": [
    "df['diff_days'] = (df['close_date'] - df['created_date']).dt.components.days"
   ]
  },
  {
   "cell_type": "code",
   "execution_count": 229,
   "id": "662ddd3b",
   "metadata": {},
   "outputs": [
    {
     "data": {
      "text/plain": [
       "<AxesSubplot:>"
      ]
     },
     "execution_count": 229,
     "metadata": {},
     "output_type": "execute_result"
    },
    {
     "data": {
      "image/png": "[encoded data removed]",
      "text/plain": [
       "<Figure size 432x288 with 1 Axes>"
      ]
     },
     "metadata": {
      "needs_background": "light"
     },
     "output_type": "display_data"
    }
   ],
   "source": [
    "df[df.diff_days <= 7].stage.value_counts().plot.barh()"
   ]
  },
  {
   "cell_type": "code",
   "execution_count": 216,
   "id": "8bff0041",
   "metadata": {},
   "outputs": [
    {
     "name": "stderr",
     "output_type": "stream",
     "text": [
      "d:\\university\\isfahan uni\\simester 8\\data_mining\\project2\\venv\\lib\\site-packages\\seaborn\\_decorators.py:36: FutureWarning: Pass the following variable as a keyword arg: x. From version 0.12, the only valid positional argument will be `data`, and passing other arguments without an explicit keyword will result in an error or misinterpretation.\n",
      "  warnings.warn(\n"
     ]
    },
    {
     "data": {
      "text/plain": [
       "[Text(0.5, 0, 'month')]"
      ]
     },
     "execution_count": 216,
     "metadata": {},
     "output_type": "execute_result"
    },
    {
     "data": {
      "image/png": "[encoded data removed]",
      "text/plain": [
       "<Figure size 432x288 with 1 Axes>"
      ]
     },
     "metadata": {
      "needs_background": "light"
     },
     "output_type": "display_data"
    }
   ],
   "source": [
    "fig = sns.boxplot(df.diff_days/30.0)\n",
    "fig.set(xlabel='month')"
   ]
  },
  {
   "cell_type": "code",
   "execution_count": 182,
   "id": "a7ffc5e6",
   "metadata": {},
   "outputs": [],
   "source": [
    "df['day_name'] = df.close_date.dt.day_name()"
   ]
  },
  {
   "cell_type": "code",
   "execution_count": 189,
   "id": "cb7320ca",
   "metadata": {},
   "outputs": [
    {
     "data": {
      "text/html": [
       "<div>\n",
       "<style scoped>\n",
       "    .dataframe tbody tr th:only-of-type {\n",
       "        vertical-align: middle;\n",
       "    }\n",
       "\n",
       "    .dataframe tbody tr th {\n",
       "        vertical-align: top;\n",
       "    }\n",
       "\n",
       "    .dataframe thead th {\n",
       "        text-align: right;\n",
       "    }\n",
       "</style>\n",
       "<table border=\"1\" class=\"dataframe\">\n",
       "  <thead>\n",
       "    <tr style=\"text-align: right;\">\n",
       "      <th></th>\n",
       "      <th>close_value</th>\n",
       "      <th>rate</th>\n",
       "      <th>Lost</th>\n",
       "      <th>Won</th>\n",
       "      <th>diff_days</th>\n",
       "    </tr>\n",
       "    <tr>\n",
       "      <th>day_name</th>\n",
       "      <th></th>\n",
       "      <th></th>\n",
       "      <th></th>\n",
       "      <th></th>\n",
       "      <th></th>\n",
       "    </tr>\n",
       "  </thead>\n",
       "  <tbody>\n",
       "    <tr>\n",
       "      <th>Friday</th>\n",
       "      <td>1892.932576</td>\n",
       "      <td>0.063830</td>\n",
       "      <td>0.468085</td>\n",
       "      <td>0.531915</td>\n",
       "      <td>316.858156</td>\n",
       "    </tr>\n",
       "    <tr>\n",
       "      <th>Wednesday</th>\n",
       "      <td>1899.739671</td>\n",
       "      <td>0.056058</td>\n",
       "      <td>0.471971</td>\n",
       "      <td>0.528029</td>\n",
       "      <td>311.980108</td>\n",
       "    </tr>\n",
       "    <tr>\n",
       "      <th>Monday</th>\n",
       "      <td>1935.897636</td>\n",
       "      <td>0.054511</td>\n",
       "      <td>0.472744</td>\n",
       "      <td>0.527256</td>\n",
       "      <td>314.049812</td>\n",
       "    </tr>\n",
       "    <tr>\n",
       "      <th>Thursday</th>\n",
       "      <td>1827.925560</td>\n",
       "      <td>0.051327</td>\n",
       "      <td>0.474336</td>\n",
       "      <td>0.525664</td>\n",
       "      <td>315.801770</td>\n",
       "    </tr>\n",
       "    <tr>\n",
       "      <th>Saturday</th>\n",
       "      <td>1948.017254</td>\n",
       "      <td>0.035120</td>\n",
       "      <td>0.482440</td>\n",
       "      <td>0.517560</td>\n",
       "      <td>316.762477</td>\n",
       "    </tr>\n",
       "    <tr>\n",
       "      <th>Tuesday</th>\n",
       "      <td>1787.179556</td>\n",
       "      <td>0.005338</td>\n",
       "      <td>0.497331</td>\n",
       "      <td>0.502669</td>\n",
       "      <td>312.704626</td>\n",
       "    </tr>\n",
       "    <tr>\n",
       "      <th>Sunday</th>\n",
       "      <td>1826.984217</td>\n",
       "      <td>-0.027444</td>\n",
       "      <td>0.513722</td>\n",
       "      <td>0.486278</td>\n",
       "      <td>332.047170</td>\n",
       "    </tr>\n",
       "  </tbody>\n",
       "</table>\n",
       "</div>"
      ],
      "text/plain": [
       "           close_value      rate      Lost       Won   diff_days\n",
       "day_name                                                        \n",
       "Friday     1892.932576  0.063830  0.468085  0.531915  316.858156\n",
       "Wednesday  1899.739671  0.056058  0.471971  0.528029  311.980108\n",
       "Monday     1935.897636  0.054511  0.472744  0.527256  314.049812\n",
       "Thursday   1827.925560  0.051327  0.474336  0.525664  315.801770\n",
       "Saturday   1948.017254  0.035120  0.482440  0.517560  316.762477\n",
       "Tuesday    1787.179556  0.005338  0.497331  0.502669  312.704626\n",
       "Sunday     1826.984217 -0.027444  0.513722  0.486278  332.047170"
      ]
     },
     "execution_count": 189,
     "metadata": {},
     "output_type": "execute_result"
    }
   ],
   "source": [
    "df.groupby('day_name').mean().sort_values(by='rate', ascending=False)"
   ]
  },
  {
   "cell_type": "markdown",
   "id": "1ad4d720",
   "metadata": {},
   "source": [
    "## Let's explore in close_value\n",
    "### Start from Won stages"
   ]
  },
  {
   "cell_type": "code",
   "execution_count": 194,
   "id": "d2d7a0e1",
   "metadata": {},
   "outputs": [
    {
     "data": {
      "text/plain": [
       "<AxesSubplot:ylabel='Frequency'>"
      ]
     },
     "execution_count": 194,
     "metadata": {},
     "output_type": "execute_result"
    },
    {
     "data": {
      "image/png": "[encoded data removed]",
      "text/plain": [
       "<Figure size 432x288 with 1 Axes>"
      ]
     },
     "metadata": {
      "needs_background": "light"
     },
     "output_type": "display_data"
    }
   ],
   "source": [
    "df[df.stage=='Won'].describe()\n",
    "df[df.stage=='Won'].close_value.plot.hist()"
   ]
  },
  {
   "cell_type": "code",
   "execution_count": 209,
   "id": "02d3266d",
   "metadata": {},
   "outputs": [
    {
     "data": {
      "text/plain": [
       "GTK 500    14\n",
       "Name: product, dtype: int64"
      ]
     },
     "execution_count": 209,
     "metadata": {},
     "output_type": "execute_result"
    }
   ],
   "source": [
    "df[(df.stage=='Won') & (df.close_value>10000)]['product'].value_counts()"
   ]
  },
  {
   "cell_type": "markdown",
   "id": "8fa0611a",
   "metadata": {},
   "source": [
    "### According to cell above, reason of low rate for GTK 500 is it's high price!\n",
    "#### Absolutely there were better ways to understand this fact, but I mined in here! LOL"
   ]
  },
  {
   "cell_type": "markdown",
   "id": "05a5e31e",
   "metadata": {},
   "source": [
    "### How about Lost ones?"
   ]
  },
  {
   "cell_type": "code",
   "execution_count": 232,
   "id": "c2178590",
   "metadata": {},
   "outputs": [
    {
     "data": {
      "text/plain": [
       "<AxesSubplot:ylabel='Frequency'>"
      ]
     },
     "execution_count": 232,
     "metadata": {},
     "output_type": "execute_result"
    },
    {
     "data": {
      "image/png": "[encoded data removed]",
      "text/plain": [
       "<Figure size 432x288 with 1 Axes>"
      ]
     },
     "metadata": {
      "needs_background": "light"
     },
     "output_type": "display_data"
    }
   ],
   "source": [
    "df[df.stage=='Lost'].describe()\n",
    "df[df.stage=='Lost'].close_value.plot.hist()"
   ]
  },
  {
   "cell_type": "code",
   "execution_count": 235,
   "id": "0b8f6085",
   "metadata": {},
   "outputs": [
    {
     "data": {
      "text/html": [
       "<div>\n",
       "<style scoped>\n",
       "    .dataframe tbody tr th:only-of-type {\n",
       "        vertical-align: middle;\n",
       "    }\n",
       "\n",
       "    .dataframe tbody tr th {\n",
       "        vertical-align: top;\n",
       "    }\n",
       "\n",
       "    .dataframe thead th {\n",
       "        text-align: right;\n",
       "    }\n",
       "</style>\n",
       "<table border=\"1\" class=\"dataframe\">\n",
       "  <thead>\n",
       "    <tr style=\"text-align: right;\">\n",
       "      <th></th>\n",
       "      <th>close_value</th>\n",
       "      <th>rate</th>\n",
       "      <th>Lost</th>\n",
       "      <th>Won</th>\n",
       "      <th>diff_days</th>\n",
       "    </tr>\n",
       "    <tr>\n",
       "      <th>product</th>\n",
       "      <th></th>\n",
       "      <th></th>\n",
       "      <th></th>\n",
       "      <th></th>\n",
       "      <th></th>\n",
       "    </tr>\n",
       "  </thead>\n",
       "  <tbody>\n",
       "    <tr>\n",
       "      <th>GTK 500</th>\n",
       "      <td>7811.0</td>\n",
       "      <td>-2</td>\n",
       "      <td>2</td>\n",
       "      <td>0</td>\n",
       "      <td>1612</td>\n",
       "    </tr>\n",
       "    <tr>\n",
       "      <th>GTX Basic</th>\n",
       "      <td>623002.0</td>\n",
       "      <td>-149</td>\n",
       "      <td>149</td>\n",
       "      <td>0</td>\n",
       "      <td>50238</td>\n",
       "    </tr>\n",
       "    <tr>\n",
       "      <th>GTX Plus Basic</th>\n",
       "      <td>403402.0</td>\n",
       "      <td>-97</td>\n",
       "      <td>97</td>\n",
       "      <td>0</td>\n",
       "      <td>30877</td>\n",
       "    </tr>\n",
       "    <tr>\n",
       "      <th>GTX Plus Pro</th>\n",
       "      <td>207089.0</td>\n",
       "      <td>-53</td>\n",
       "      <td>53</td>\n",
       "      <td>0</td>\n",
       "      <td>15833</td>\n",
       "    </tr>\n",
       "    <tr>\n",
       "      <th>GTXPro</th>\n",
       "      <td>400509.0</td>\n",
       "      <td>-96</td>\n",
       "      <td>96</td>\n",
       "      <td>0</td>\n",
       "      <td>31589</td>\n",
       "    </tr>\n",
       "    <tr>\n",
       "      <th>MG Advanced</th>\n",
       "      <td>461321.0</td>\n",
       "      <td>-107</td>\n",
       "      <td>107</td>\n",
       "      <td>0</td>\n",
       "      <td>34265</td>\n",
       "    </tr>\n",
       "    <tr>\n",
       "      <th>MG Special</th>\n",
       "      <td>520170.0</td>\n",
       "      <td>-128</td>\n",
       "      <td>128</td>\n",
       "      <td>0</td>\n",
       "      <td>40266</td>\n",
       "    </tr>\n",
       "  </tbody>\n",
       "</table>\n",
       "</div>"
      ],
      "text/plain": [
       "                close_value  rate  Lost  Won  diff_days\n",
       "product                                                \n",
       "GTK 500              7811.0    -2     2    0       1612\n",
       "GTX Basic          623002.0  -149   149    0      50238\n",
       "GTX Plus Basic     403402.0   -97    97    0      30877\n",
       "GTX Plus Pro       207089.0   -53    53    0      15833\n",
       "GTXPro             400509.0   -96    96    0      31589\n",
       "MG Advanced        461321.0  -107   107    0      34265\n",
       "MG Special         520170.0  -128   128    0      40266"
      ]
     },
     "execution_count": 235,
     "metadata": {},
     "output_type": "execute_result"
    }
   ],
   "source": [
    "df[(df.stage=='Lost') & (df.close_value>3000)].groupby('product').sum()"
   ]
  }
 ],
 "metadata": {
  "kernelspec": {
   "display_name": "Python 3",
   "language": "python",
   "name": "python3"
  },
  "language_info": {
   "codemirror_mode": {
    "name": "ipython",
    "version": 3
   },
   "file_extension": ".py",
   "mimetype": "text/x-python",
   "name": "python",
   "nbconvert_exporter": "python",
   "pygments_lexer": "ipython3",
   "version": "3.9.0"
  }
 },
 "nbformat": 4,
 "nbformat_minor": 5
}
